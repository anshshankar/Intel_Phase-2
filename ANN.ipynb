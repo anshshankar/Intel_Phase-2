{
 "cells": [
  {
   "cell_type": "code",
   "execution_count": 3,
   "id": "a552a51b",
   "metadata": {},
   "outputs": [],
   "source": [
    "import tensorflow as tf\n",
    "import numpy as np\n",
    "import pandas as pd"
   ]
  },
  {
   "cell_type": "code",
   "execution_count": 5,
   "id": "44852ea3",
   "metadata": {},
   "outputs": [
    {
     "data": {
      "text/plain": [
       "'2.8.0'"
      ]
     },
     "execution_count": 5,
     "metadata": {},
     "output_type": "execute_result"
    }
   ],
   "source": [
    "tf.__version__"
   ]
  },
  {
   "cell_type": "markdown",
   "id": "b163d079",
   "metadata": {},
   "source": [
    "### Why data is Split into X and Y\n",
    "\n",
    "SInce we are dooing supervised learning. Y supervises X's Learning"
   ]
  },
  {
   "cell_type": "markdown",
   "id": "50d105a1",
   "metadata": {},
   "source": [
    "### Label Encoding \n",
    "\n",
    "### fit_transform  in one step we get all change value\n",
    "\n",
    "### One hot encoding \n",
    "\n",
    "### ColumnTransformer(transformer , Remainder)\n",
    "\n",
    "Test-train split\n",
    "\n",
    "Feature scaling\n",
    "\n",
    "Initializing ANN\n",
    "\n",
    "Sequentials() is used\n",
    "\n",
    "Adding the hidden layers\n",
    "ann.add()\n",
    "\n",
    "Training ANN\n",
    "\n",
    "-- Compiling ANN\n",
    "\n",
    "Making the prediction the evaluate the model\n",
    "\n",
    "\n"
   ]
  },
  {
   "cell_type": "code",
   "execution_count": null,
   "id": "7d9ab5ba",
   "metadata": {},
   "outputs": [],
   "source": []
  }
 ],
 "metadata": {
  "kernelspec": {
   "display_name": "Python 3",
   "language": "python",
   "name": "python3"
  },
  "language_info": {
   "codemirror_mode": {
    "name": "ipython",
    "version": 3
   },
   "file_extension": ".py",
   "mimetype": "text/x-python",
   "name": "python",
   "nbconvert_exporter": "python",
   "pygments_lexer": "ipython3",
   "version": "3.8.8"
  }
 },
 "nbformat": 4,
 "nbformat_minor": 5
}
