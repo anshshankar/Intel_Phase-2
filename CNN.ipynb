{
 "cells": [
  {
   "cell_type": "code",
   "execution_count": 1,
   "id": "c8584527",
   "metadata": {},
   "outputs": [],
   "source": [
    "# mporting the data"
   ]
  },
  {
   "cell_type": "code",
   "execution_count": 5,
   "id": "7dc5204a",
   "metadata": {},
   "outputs": [
    {
     "data": {
      "text/plain": [
       "' - Conulution\\n    - Pooling\\n    - Add Multiple if needed Convultion Layer\\n    \\n    '"
      ]
     },
     "execution_count": 5,
     "metadata": {},
     "output_type": "execute_result"
    }
   ],
   "source": [
    "#Preprocessing the trainning and tranning data\n",
    "\n",
    "# Initalising the CNN\n",
    "\"\"\" - Conulution\n",
    "    - Pooling\n",
    "    - Add Multiple if needed Convultion Layer\n",
    "    \n",
    "    \"\"\""
   ]
  },
  {
   "cell_type": "code",
   "execution_count": null,
   "id": "421a605a",
   "metadata": {},
   "outputs": [],
   "source": [
    "# Flattening\n",
    "# Full Connection\n",
    "# "
   ]
  }
 ],
 "metadata": {
  "kernelspec": {
   "display_name": "Python 3",
   "language": "python",
   "name": "python3"
  },
  "language_info": {
   "codemirror_mode": {
    "name": "ipython",
    "version": 3
   },
   "file_extension": ".py",
   "mimetype": "text/x-python",
   "name": "python",
   "nbconvert_exporter": "python",
   "pygments_lexer": "ipython3",
   "version": "3.8.8"
  }
 },
 "nbformat": 4,
 "nbformat_minor": 5
}
