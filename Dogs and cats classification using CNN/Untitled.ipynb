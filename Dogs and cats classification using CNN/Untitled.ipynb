{
 "cells": [
  {
   "cell_type": "code",
   "execution_count": 3,
   "id": "110fe1bb",
   "metadata": {},
   "outputs": [],
   "source": [
    "import numpy as np\n",
    "import pandas as pd\n",
    "import tensorflow as tf\n",
    "from keras.preprocessing.image import ImageDataGenerator"
   ]
  },
  {
   "cell_type": "code",
   "execution_count": 5,
   "id": "fc4de6cb",
   "metadata": {},
   "outputs": [
    {
     "name": "stdout",
     "output_type": "stream",
     "text": [
      "Found 8000 images belonging to 2 classes.\n"
     ]
    }
   ],
   "source": [
    "# Preprocessing the Training Data\n",
    "\n",
    "train_datagen = ImageDataGenerator(rescale = 1./255,\n",
    "                                   shear_range = 0.2,\n",
    "                                   zoom_range = 0.2,\n",
    "                                   horizontal_flip = True)\n",
    "\n",
    "training_set = train_datagen.flow_from_directory('C:/Users/Ansh_om/Jupiter/INTEL/Phase 2/Dogs and cats classification using CNN/dataset/training_set',\n",
    "                                                target_size = (64,64),\n",
    "                                                batch_size = 32,\n",
    "                                                class_mode = 'binary')"
   ]
  },
  {
   "cell_type": "code",
   "execution_count": 6,
   "id": "21ad4103",
   "metadata": {},
   "outputs": [
    {
     "name": "stdout",
     "output_type": "stream",
     "text": [
      "Found 2000 images belonging to 2 classes.\n"
     ]
    }
   ],
   "source": [
    "# Preprocessing the Testing Data\n",
    "\n",
    "test_datagen = ImageDataGenerator(rescale = 1./255,\n",
    "                                   shear_range = 0.2,\n",
    "                                   zoom_range = 0.2,\n",
    "                                   horizontal_flip = True)\n",
    "\n",
    "test_set = test_datagen.flow_from_directory('C:/Users/Ansh_om/Jupiter/INTEL/Phase 2/Dogs and cats classification using CNN/dataset/test_set',\n",
    "                                                target_size = (64,64),\n",
    "                                                batch_size = 32,\n",
    "                                                class_mode = 'binary')"
   ]
  },
  {
   "cell_type": "markdown",
   "id": "4065d665",
   "metadata": {},
   "source": [
    "## Building the CNN"
   ]
  },
  {
   "cell_type": "code",
   "execution_count": 7,
   "id": "8a6e047a",
   "metadata": {},
   "outputs": [],
   "source": [
    "# Initalising the CNN\n",
    "\n",
    "cnn = tf.keras.models.Sequential()"
   ]
  },
  {
   "cell_type": "code",
   "execution_count": 9,
   "id": "c5a48ace",
   "metadata": {},
   "outputs": [],
   "source": [
    "# Step-1 : Convolution\n",
    "\n",
    "cnn.add(tf.keras.layers.Conv2D (filters = 32, kernel_size = 3, activation = 'relu', input_shape = [64,64,3]))"
   ]
  },
  {
   "cell_type": "code",
   "execution_count": 10,
   "id": "9bda3c40",
   "metadata": {},
   "outputs": [],
   "source": [
    "# Step-2 : Pooling\n",
    "\n",
    "cnn.add(tf.keras.layers.MaxPool2D(pool_size=2, strides=2))"
   ]
  },
  {
   "cell_type": "code",
   "execution_count": 11,
   "id": "8662ad86",
   "metadata": {},
   "outputs": [],
   "source": [
    "# Adding Second Conolution Layer\n",
    "\n",
    "cnn.add(tf.keras.layers.Conv2D(filters=32, kernel_size=3, activation='relu'))\n",
    "cnn.add(tf.keras.layers.MaxPool2D(pool_size=2, strides=2))"
   ]
  },
  {
   "cell_type": "code",
   "execution_count": 12,
   "id": "1af056d6",
   "metadata": {},
   "outputs": [],
   "source": [
    "# Step-3 : Flattening\n",
    "\n",
    "cnn.add(tf.keras.layers.Flatten())"
   ]
  },
  {
   "cell_type": "code",
   "execution_count": 14,
   "id": "d477bd52",
   "metadata": {},
   "outputs": [],
   "source": [
    "# Step-4 : Full Connection\n",
    "\n",
    "cnn.add(tf.keras.layers.Dense(units=128, activation=\"relu\"))"
   ]
  },
  {
   "cell_type": "code",
   "execution_count": 15,
   "id": "31096266",
   "metadata": {},
   "outputs": [],
   "source": [
    "# Step-5 : Output Layer\n",
    "\n",
    "cnn.add(tf.keras.layers.Dense(units=1, activation=\"sigmoid\"))"
   ]
  },
  {
   "cell_type": "markdown",
   "id": "8d4d9b11",
   "metadata": {},
   "source": [
    "## Training the CNN"
   ]
  },
  {
   "cell_type": "code",
   "execution_count": 16,
   "id": "c39800ce",
   "metadata": {},
   "outputs": [],
   "source": [
    "# Compiling the CNN\n",
    "\n",
    "cnn.compile(optimizer = \"adam\", loss='binary_crossentropy',metrics=['accuracy'])"
   ]
  },
  {
   "cell_type": "code",
   "execution_count": 17,
   "id": "35c1b2f0",
   "metadata": {},
   "outputs": [
    {
     "name": "stdout",
     "output_type": "stream",
     "text": [
      "Epoch 1/2\n",
      "250/250 [==============================] - 176s 701ms/step - loss: 0.6688 - accuracy: 0.5951 - val_loss: 0.6420 - val_accuracy: 0.6440\n",
      "Epoch 2/2\n",
      "250/250 [==============================] - 91s 364ms/step - loss: 0.5982 - accuracy: 0.6785 - val_loss: 0.6174 - val_accuracy: 0.6520\n"
     ]
    },
    {
     "data": {
      "text/plain": [
       "<keras.callbacks.History at 0x1f62808f610>"
      ]
     },
     "execution_count": 17,
     "metadata": {},
     "output_type": "execute_result"
    }
   ],
   "source": [
    "# Training the CNN on the training data and evaluate it on the test set\n",
    "\n",
    "cnn.fit(x=training_set , validation_data=test_set, epochs=2 )"
   ]
  },
  {
   "cell_type": "code",
   "execution_count": null,
   "id": "9129c17f",
   "metadata": {},
   "outputs": [],
   "source": []
  }
 ],
 "metadata": {
  "kernelspec": {
   "display_name": "Python 3",
   "language": "python",
   "name": "python3"
  },
  "language_info": {
   "codemirror_mode": {
    "name": "ipython",
    "version": 3
   },
   "file_extension": ".py",
   "mimetype": "text/x-python",
   "name": "python",
   "nbconvert_exporter": "python",
   "pygments_lexer": "ipython3",
   "version": "3.8.8"
  },
  "widgets": {
   "application/vnd.jupyter.widget-state+json": {
    "state": {},
    "version_major": 2,
    "version_minor": 0
   }
  }
 },
 "nbformat": 4,
 "nbformat_minor": 5
}
