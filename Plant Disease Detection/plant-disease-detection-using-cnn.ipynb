{
 "cells": [
  {
   "cell_type": "markdown",
   "metadata": {},
   "source": [
    "<h1>Leaf Disease Classification</h1>"
   ]
  },
  {
   "cell_type": "code",
   "execution_count": null,
   "metadata": {
    "execution": {
     "iopub.execute_input": "2022-06-16T04:27:56.709942Z",
     "iopub.status.busy": "2022-06-16T04:27:56.708811Z",
     "iopub.status.idle": "2022-06-16T04:28:00.952928Z",
     "shell.execute_reply": "2022-06-16T04:28:00.951786Z",
     "shell.execute_reply.started": "2022-06-16T04:27:56.709827Z"
    }
   },
   "outputs": [],
   "source": [
    "import tensorflow as tf\n",
    "import matplotlib.pyplot as plt\n",
    "from tensorflow import keras\n",
    "import numpy as np\n",
    "import itertools\n",
    "from keras.preprocessing.image import image_dataset_from_directory\n",
    "from tensorflow.keras.layers.experimental.preprocessing import Rescaling\n",
    "from sklearn.metrics import precision_score, accuracy_score, recall_score, confusion_matrix, ConfusionMatrixDisplay"
   ]
  },
  {
   "cell_type": "markdown",
   "metadata": {},
   "source": [
    "<h1>Data Loading</h1>\n",
    "<p>Setting up Image Data Generators<p>"
   ]
  },
  {
   "cell_type": "code",
   "execution_count": null,
   "metadata": {
    "execution": {
     "iopub.execute_input": "2022-06-16T04:28:00.959977Z",
     "iopub.status.busy": "2022-06-16T04:28:00.959333Z",
     "iopub.status.idle": "2022-06-16T04:29:01.831734Z",
     "shell.execute_reply": "2022-06-16T04:29:01.830825Z",
     "shell.execute_reply.started": "2022-06-16T04:28:00.959934Z"
    }
   },
   "outputs": [],
   "source": [
    "#train_gen = image_dataset_from_directory(directory=\"../input/new-plant-diseases-dataset/train\",image_size=(256, 256))\n",
    "#test_gen = image_dataset_from_directory(directory=\"../input/new-plant-diseases-dataset/valid\",image_size=(256, 256))\n",
    "\n",
    "train_gen = image_dataset_from_directory(directory=\"../input/new-plant-diseases-dataset/New Plant Diseases Dataset(Augmented)/New Plant Diseases Dataset(Augmented)/train\",\n",
    "                                         image_size=(256, 256))\n",
    "test_gen = image_dataset_from_directory(directory=\"../input/new-plant-diseases-dataset/New Plant Diseases Dataset(Augmented)/New Plant Diseases Dataset(Augmented)/valid\",\n",
    "                                        image_size=(256, 256))\n",
    "\n",
    "rescale = Rescaling(scale=1.0/255)\n",
    "train_gen = train_gen.map(lambda image,label:(rescale(image),label))\n",
    "test_gen  = test_gen.map(lambda image,label:(rescale(image),label))"
   ]
  },
  {
   "cell_type": "markdown",
   "metadata": {},
   "source": [
    "<h1>Data Engineering</h1>\n",
    "<p>Since the data is already augmented, there is no requirement of data engineering. Feature scaling is automatically done by image generators</p>"
   ]
  },
  {
   "cell_type": "markdown",
   "metadata": {},
   "source": [
    "<h1>Modelling</h1>"
   ]
  },
  {
   "cell_type": "code",
   "execution_count": null,
   "metadata": {
    "execution": {
     "iopub.execute_input": "2022-06-16T04:29:01.833669Z",
     "iopub.status.busy": "2022-06-16T04:29:01.833286Z",
     "iopub.status.idle": "2022-06-16T04:29:02.007036Z",
     "shell.execute_reply": "2022-06-16T04:29:02.004952Z",
     "shell.execute_reply.started": "2022-06-16T04:29:01.833630Z"
    }
   },
   "outputs": [],
   "source": [
    "model = keras.Sequential()\n",
    "\n",
    "model.add(keras.layers.Conv2D(32,(3,3),activation=\"relu\",padding=\"same\",input_shape=(256,256,3)))\n",
    "model.add(keras.layers.Conv2D(32,(3,3),activation=\"relu\",padding=\"same\"))\n",
    "model.add(keras.layers.MaxPooling2D(3,3))\n",
    "\n",
    "model.add(keras.layers.Conv2D(64,(3,3),activation=\"relu\",padding=\"same\"))\n",
    "model.add(keras.layers.Conv2D(64,(3,3),activation=\"relu\",padding=\"same\"))\n",
    "model.add(keras.layers.MaxPooling2D(3,3))\n",
    "\n",
    "model.add(keras.layers.Conv2D(128,(3,3),activation=\"relu\",padding=\"same\"))\n",
    "model.add(keras.layers.Conv2D(128,(3,3),activation=\"relu\",padding=\"same\"))\n",
    "model.add(keras.layers.MaxPooling2D(3,3))\n",
    "\n",
    "model.add(keras.layers.Conv2D(256,(3,3),activation=\"relu\",padding=\"same\"))\n",
    "model.add(keras.layers.Conv2D(256,(3,3),activation=\"relu\",padding=\"same\"))\n",
    "\n",
    "model.add(keras.layers.Conv2D(512,(5,5),activation=\"relu\",padding=\"same\"))\n",
    "model.add(keras.layers.Conv2D(512,(5,5),activation=\"relu\",padding=\"same\"))\n",
    "\n",
    "model.add(keras.layers.Flatten())\n",
    "\n",
    "model.add(keras.layers.Dense(1568,activation=\"relu\"))\n",
    "model.add(keras.layers.Dropout(0.5))\n",
    "\n",
    "model.add(keras.layers.Dense(38,activation=\"softmax\"))\n",
    "\n",
    "opt = keras.optimizers.Adam(learning_rate=0.0001)\n",
    "model.compile(optimizer=opt,loss=\"sparse_categorical_crossentropy\",metrics=['accuracy'])\n",
    "model.summary()"
   ]
  },
  {
   "cell_type": "code",
   "execution_count": null,
   "metadata": {
    "execution": {
     "iopub.execute_input": "2022-06-16T04:29:02.010032Z",
     "iopub.status.busy": "2022-06-16T04:29:02.009582Z",
     "iopub.status.idle": "2022-06-16T04:47:20.962836Z",
     "shell.execute_reply": "2022-06-16T04:47:20.961933Z",
     "shell.execute_reply.started": "2022-06-16T04:29:02.009989Z"
    }
   },
   "outputs": [],
   "source": [
    "ep = 5\n",
    "history = model.fit_generator(train_gen,\n",
    "          validation_data=test_gen,\n",
    "          epochs = ep)"
   ]
  },
  {
   "cell_type": "code",
   "execution_count": null,
   "metadata": {
    "execution": {
     "iopub.execute_input": "2022-06-16T04:47:20.965033Z",
     "iopub.status.busy": "2022-06-16T04:47:20.964587Z",
     "iopub.status.idle": "2022-06-16T04:47:21.463376Z",
     "shell.execute_reply": "2022-06-16T04:47:21.461828Z",
     "shell.execute_reply.started": "2022-06-16T04:47:20.964987Z"
    }
   },
   "outputs": [],
   "source": [
    "plt.figure(figsize = (20,5))\n",
    "plt.subplot(1,2,1)\n",
    "plt.title(\"Train and Validation Loss\")\n",
    "plt.xlabel(\"Epoch\")\n",
    "plt.ylabel(\"Loss\")\n",
    "plt.plot(history.history['loss'],label=\"Train Loss\")\n",
    "plt.plot(history.history['val_loss'], label=\"Validation Loss\")\n",
    "plt.xlim(0, 5)\n",
    "plt.ylim(0.0,1.0)\n",
    "plt.legend()\n",
    "\n",
    "\n",
    "plt.subplot(1,2,2)\n",
    "plt.title(\"Train and Validation Accuracy\")\n",
    "plt.xlabel(\"Epoch\")\n",
    "plt.ylabel(\"Accuracy\")\n",
    "plt.plot(history.history['accuracy'], label=\"Train Accuracy\")\n",
    "plt.plot(history.history['val_accuracy'], label=\"Validation Accuracy\")\n",
    "plt.xlim(0, 5)\n",
    "plt.ylim(0.75,1.0)\n",
    "plt.legend()\n",
    "plt.tight_layout()"
   ]
  },
  {
   "cell_type": "code",
   "execution_count": null,
   "metadata": {
    "execution": {
     "iopub.execute_input": "2022-06-16T04:47:21.465766Z",
     "iopub.status.busy": "2022-06-16T04:47:21.464802Z",
     "iopub.status.idle": "2022-06-16T04:48:22.075199Z",
     "shell.execute_reply": "2022-06-16T04:48:22.074085Z",
     "shell.execute_reply.started": "2022-06-16T04:47:21.465724Z"
    }
   },
   "outputs": [],
   "source": [
    "labels = []\n",
    "predictions = []\n",
    "for x,y in test_gen:\n",
    "    labels.append(list(y.numpy()))\n",
    "    predictions.append(tf.argmax(model.predict(x),1).numpy())"
   ]
  },
  {
   "cell_type": "code",
   "execution_count": null,
   "metadata": {
    "execution": {
     "iopub.execute_input": "2022-06-16T04:48:22.077414Z",
     "iopub.status.busy": "2022-06-16T04:48:22.076952Z",
     "iopub.status.idle": "2022-06-16T04:48:22.095055Z",
     "shell.execute_reply": "2022-06-16T04:48:22.092445Z",
     "shell.execute_reply.started": "2022-06-16T04:48:22.077369Z"
    }
   },
   "outputs": [],
   "source": [
    "predictions = list(itertools.chain.from_iterable(predictions))\n",
    "labels = list(itertools.chain.from_iterable(labels))"
   ]
  },
  {
   "cell_type": "code",
   "execution_count": null,
   "metadata": {
    "execution": {
     "iopub.execute_input": "2022-06-16T04:48:22.102630Z",
     "iopub.status.busy": "2022-06-16T04:48:22.101405Z",
     "iopub.status.idle": "2022-06-16T04:48:22.180428Z",
     "shell.execute_reply": "2022-06-16T04:48:22.179445Z",
     "shell.execute_reply.started": "2022-06-16T04:48:22.102581Z"
    }
   },
   "outputs": [],
   "source": [
    "print(\"Train Accuracy  : {:.2f} %\".format(history.history['accuracy'][-1]*100))\n",
    "print(\"Test Accuracy   : {:.2f} %\".format(accuracy_score(labels, predictions) * 100))\n",
    "print(\"Precision Score : {:.2f} %\".format(precision_score(labels, predictions, average='micro') * 100))\n",
    "print(\"Recall Score    : {:.2f} %\".format(recall_score(labels, predictions, average='micro') * 100))"
   ]
  },
  {
   "cell_type": "code",
   "execution_count": null,
   "metadata": {
    "execution": {
     "iopub.execute_input": "2022-06-16T04:48:22.182656Z",
     "iopub.status.busy": "2022-06-16T04:48:22.182075Z",
     "iopub.status.idle": "2022-06-16T04:48:27.049687Z",
     "shell.execute_reply": "2022-06-16T04:48:27.048598Z",
     "shell.execute_reply.started": "2022-06-16T04:48:22.182609Z"
    }
   },
   "outputs": [],
   "source": [
    "plt.figure(figsize= (20,5))\n",
    "cm = confusion_matrix(labels, predictions)\n",
    "disp = ConfusionMatrixDisplay(confusion_matrix=cm,\n",
    "                              display_labels=list(range(1,39)))\n",
    "fig, ax = plt.subplots(figsize=(15,15))\n",
    "disp.plot(ax=ax,colorbar= False,cmap = 'YlGnBu')\n",
    "plt.title(\"Confusion Matrix\")\n",
    "plt.xlabel('Predicted Labels')\n",
    "plt.ylabel('True Labels')\n",
    "plt.show()"
   ]
  },
  {
   "cell_type": "code",
   "execution_count": null,
   "metadata": {},
   "outputs": [],
   "source": []
  },
  {
   "cell_type": "code",
   "execution_count": null,
   "metadata": {},
   "outputs": [],
   "source": []
  },
  {
   "cell_type": "code",
   "execution_count": null,
   "metadata": {},
   "outputs": [],
   "source": []
  }
 ],
 "metadata": {
  "kernelspec": {
   "display_name": "Python 3",
   "language": "python",
   "name": "python3"
  },
  "language_info": {
   "codemirror_mode": {
    "name": "ipython",
    "version": 3
   },
   "file_extension": ".py",
   "mimetype": "text/x-python",
   "name": "python",
   "nbconvert_exporter": "python",
   "pygments_lexer": "ipython3",
   "version": "3.8.8"
  }
 },
 "nbformat": 4,
 "nbformat_minor": 4
}
